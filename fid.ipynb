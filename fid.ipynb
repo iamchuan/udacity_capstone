{
 "cells": [
  {
   "cell_type": "code",
   "execution_count": 1,
   "metadata": {},
   "outputs": [],
   "source": [
    "import sys\n",
    "sys.path.append('./venv/lib/python3.6/site-packages')"
   ]
  },
  {
   "cell_type": "code",
   "execution_count": 2,
   "metadata": {},
   "outputs": [],
   "source": [
    "import os\n",
    "import time\n",
    "import random\n",
    "\n",
    "import numpy as np\n",
    "import matplotlib.pyplot as plt\n",
    "\n",
    "from IPython.display import Image"
   ]
  },
  {
   "cell_type": "code",
   "execution_count": 3,
   "metadata": {},
   "outputs": [],
   "source": [
    "import torch\n",
    "from torch import nn\n",
    "from torch import optim\n",
    "from torchvision import transforms as vtransforms\n",
    "from torchvision import utils as vutils\n",
    "from torchvision import datasets"
   ]
  },
  {
   "cell_type": "code",
   "execution_count": 4,
   "metadata": {},
   "outputs": [],
   "source": [
    "from gans.utils.data import CartoonSet\n",
    "from gans.utils.layers import *\n",
    "from gans.utils.functions import *\n",
    "from gans.models import *\n",
    "from gans.trainer import *"
   ]
  },
  {
   "cell_type": "code",
   "execution_count": 5,
   "metadata": {},
   "outputs": [
    {
     "name": "stdout",
     "output_type": "stream",
     "text": [
      "Random Seed:  999\n"
     ]
    },
    {
     "data": {
      "text/plain": [
       "<torch._C.Generator at 0x7f082b8b78f0>"
      ]
     },
     "execution_count": 5,
     "metadata": {},
     "output_type": "execute_result"
    }
   ],
   "source": [
    "# Set random seem for reproducibility\n",
    "manualSeed = 999\n",
    "#manualSeed = random.randint(1, 10000) # use if you want new results\n",
    "print(\"Random Seed: \", manualSeed)\n",
    "random.seed(manualSeed)\n",
    "torch.manual_seed(manualSeed)"
   ]
  },
  {
   "cell_type": "code",
   "execution_count": 6,
   "metadata": {},
   "outputs": [],
   "source": [
    "# Dataset\n",
    "data_root = './datasets'\n",
    "\n",
    "# data_name = 'CartoonSet'\n",
    "data_name = 'FashionMNIST'\n",
    "# data_name = 'MNIST'\n",
    "\n",
    "# batch_size = 200\n",
    "# sample_size = 50\n",
    "# nrow = 5\n",
    "\n",
    "# num_epochs = 100\n",
    "\n",
    "# num_workers = 8\n",
    "\n",
    "\n",
    "# # Output dir\n",
    "# output_root = './output/vanillaGAN'\n",
    "# # overwrite real sample output\n",
    "# overwrite_real = False\n",
    "\n",
    "# noize_dim = 100\n"
   ]
  },
  {
   "cell_type": "code",
   "execution_count": 7,
   "metadata": {},
   "outputs": [
    {
     "name": "stdout",
     "output_type": "stream",
     "text": [
      "using device:  cuda:0\n"
     ]
    }
   ],
   "source": [
    "device = torch.device(\"cuda:0\" if torch.cuda.is_available() else \"cpu\")\n",
    "\n",
    "print('using device: ', device)"
   ]
  },
  {
   "cell_type": "code",
   "execution_count": 8,
   "metadata": {},
   "outputs": [],
   "source": [
    "img_size = 28\n",
    "in_channels = 1\n",
    "\n",
    "if data_name == 'CartoonSet':\n",
    "    img_size = 75\n",
    "    dataset = CartoonSet(root=os.path.join(data_root, data_name), \n",
    "                         transform=vtransforms.Compose([\n",
    "                             vtransforms.CenterCrop(size=400),\n",
    "                             vtransforms.Resize(size=img_size), \n",
    "                             vtransforms.ToTensor(),\n",
    "                             vtransforms.Normalize((0.5,0.5,0.5), (0.5,0.5,0.5)),\n",
    "                         ]))\n",
    "    \n",
    "elif data_name == 'MNIST':\n",
    "    dataset = datasets.MNIST(root=os.path.join(data_root, data_name), \n",
    "                             download=True,\n",
    "                             transform=vtransforms.Compose([\n",
    "                                 vtransforms.ToTensor(),\n",
    "                                 vtransforms.Normalize((0.5,), (0.5,)),\n",
    "                         ]))\n",
    "elif data_name == 'FashionMNIST':\n",
    "    dataset = datasets.FashionMNIST(root=os.path.join(data_root, data_name), \n",
    "                                    download=True,\n",
    "                                    transform=vtransforms.Compose([\n",
    "                                        vtransforms.ToTensor(),\n",
    "                                        vtransforms.Normalize((0.5,), (0.5,)),\n",
    "                                    ]))\n"
   ]
  },
  {
   "cell_type": "code",
   "execution_count": 11,
   "metadata": {},
   "outputs": [],
   "source": [
    "image_sample_dir = 'samples'\n",
    "\n",
    "real = os.path.join(data_name, 'original')\n",
    "\n",
    "if not os.path.exists(os.path.join(image_sample_dir, real)):\n",
    "    os.makedirs(os.path.join(image_sample_dir, real))\n",
    "\n",
    "image_path = os.path.join(image_sample_dir, real, 'img{:05}.png')\n",
    "\n",
    "for i in random.sample(range(len(dataset)), 2048):\n",
    "    vutils.save_image(dataset[i][0], image_path.format(i), \n",
    "                      normalize=True, range=(0,1))"
   ]
  },
  {
   "cell_type": "markdown",
   "metadata": {},
   "source": [
    "- MNIST\n",
    "  - vanillaGAN: 29.8860039314948\n",
    "  - cGAN: 27.60618076139116\n",
    "  - DCGAN: 7.548617460620278\n",
    "  - cDCGAN: 7.420052673632085\n",
    "  \n",
    "- FashionMNIST:\n",
    "  - vanillaGAN: 55.893088118384526\n",
    "  - cGAN: 60.76478200199051\n",
    "  - DCGAN: 13.996017101103291\n",
    "  - cDCGAN: 13.584223451920764"
   ]
  },
  {
   "cell_type": "code",
   "execution_count": 10,
   "metadata": {},
   "outputs": [
    {
     "data": {
      "text/plain": [
       "60000"
      ]
     },
     "execution_count": 10,
     "metadata": {},
     "output_type": "execute_result"
    }
   ],
   "source": [
    "len(dataset)"
   ]
  },
  {
   "cell_type": "code",
   "execution_count": null,
   "metadata": {},
   "outputs": [],
   "source": []
  }
 ],
 "metadata": {
  "kernelspec": {
   "display_name": "Python 3",
   "language": "python",
   "name": "python3"
  },
  "language_info": {
   "codemirror_mode": {
    "name": "ipython",
    "version": 3
   },
   "file_extension": ".py",
   "mimetype": "text/x-python",
   "name": "python",
   "nbconvert_exporter": "python",
   "pygments_lexer": "ipython3",
   "version": "3.6.7"
  }
 },
 "nbformat": 4,
 "nbformat_minor": 2
}
