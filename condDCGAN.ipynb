{
 "cells": [
  {
   "cell_type": "markdown",
   "metadata": {},
   "source": [
    "## Libraries"
   ]
  },
  {
   "cell_type": "code",
   "execution_count": 1,
   "metadata": {},
   "outputs": [],
   "source": [
    "import sys\n",
    "sys.path.append('./venv/lib/python3.6/site-packages')"
   ]
  },
  {
   "cell_type": "code",
   "execution_count": 2,
   "metadata": {},
   "outputs": [],
   "source": [
    "import os\n",
    "import time\n",
    "import random\n",
    "\n",
    "import numpy as np\n",
    "import matplotlib.pyplot as plt\n",
    "\n",
    "from IPython.display import Image"
   ]
  },
  {
   "cell_type": "code",
   "execution_count": 3,
   "metadata": {},
   "outputs": [],
   "source": [
    "import torch\n",
    "from torch import nn\n",
    "from torch import optim\n",
    "from torchvision import transforms as vtransforms\n",
    "from torchvision import utils as vutils\n",
    "from torchvision import datasets"
   ]
  },
  {
   "cell_type": "code",
   "execution_count": 4,
   "metadata": {},
   "outputs": [],
   "source": [
    "from gans.utils.data import CartoonSet\n",
    "from gans.utils.layers import *\n",
    "from gans.utils.functions import *\n",
    "from gans.models import *\n",
    "from gans.trainer import *"
   ]
  },
  {
   "cell_type": "markdown",
   "metadata": {},
   "source": [
    "## Random seed"
   ]
  },
  {
   "cell_type": "code",
   "execution_count": 5,
   "metadata": {},
   "outputs": [
    {
     "name": "stdout",
     "output_type": "stream",
     "text": [
      "Random Seed:  999\n"
     ]
    },
    {
     "data": {
      "text/plain": [
       "<torch._C.Generator at 0x7fb73e382970>"
      ]
     },
     "execution_count": 5,
     "metadata": {},
     "output_type": "execute_result"
    }
   ],
   "source": [
    "# Set random seem for reproducibility\n",
    "manualSeed = 999\n",
    "#manualSeed = random.randint(1, 10000) # use if you want new results\n",
    "print(\"Random Seed: \", manualSeed)\n",
    "random.seed(manualSeed)\n",
    "torch.manual_seed(manualSeed)"
   ]
  },
  {
   "cell_type": "markdown",
   "metadata": {},
   "source": [
    "## Inputs"
   ]
  },
  {
   "cell_type": "code",
   "execution_count": 6,
   "metadata": {},
   "outputs": [],
   "source": [
    "# Dataset\n",
    "data_root = './datasets'\n",
    "# data_name = 'CartoonSet'\n",
    "# data_name = 'FashionMNIST'\n",
    "data_name = 'MNIST'\n",
    "\n",
    "batch_size = 200\n",
    "sample_size = 50\n",
    "nrow = 5\n",
    "\n",
    "num_epochs = 50\n",
    "\n",
    "num_workers = 8\n",
    "\n",
    "\n",
    "# Output dir\n",
    "output_root = './output/condDCGAN'\n",
    "# overwrite real sample output\n",
    "overwrite_real = False\n",
    "\n",
    "noize_dim = 100\n",
    "\n",
    "# Optimization parameters\n",
    "lr = 0.001\n",
    "beta1 = 0.5"
   ]
  },
  {
   "cell_type": "markdown",
   "metadata": {},
   "source": [
    "## Device"
   ]
  },
  {
   "cell_type": "code",
   "execution_count": 7,
   "metadata": {},
   "outputs": [
    {
     "name": "stdout",
     "output_type": "stream",
     "text": [
      "using device:  cuda:1\n"
     ]
    }
   ],
   "source": [
    "device = torch.device(\"cuda:1\" if torch.cuda.is_available() else \"cpu\")\n",
    "\n",
    "print('using device: ', device)"
   ]
  },
  {
   "cell_type": "markdown",
   "metadata": {},
   "source": [
    "## Dataset"
   ]
  },
  {
   "cell_type": "code",
   "execution_count": 8,
   "metadata": {},
   "outputs": [],
   "source": [
    "img_size = 28\n",
    "in_channels = 1\n",
    "\n",
    "if data_name == 'CartoonSet':\n",
    "    img_size = 75\n",
    "    dataset = CartoonSet(root=os.path.join(data_root, data_name), \n",
    "                         transform=vtransforms.Compose([\n",
    "                             vtransforms.CenterCrop(size=400),\n",
    "                             vtransforms.Resize(size=img_size), \n",
    "                             vtransforms.ToTensor(),\n",
    "                             vtransforms.Normalize((0.5,0.5,0.5), (0.5,0.5,0.5)),\n",
    "                         ]))\n",
    "    \n",
    "elif data_name == 'MNIST':\n",
    "    dataset = datasets.MNIST(root=os.path.join(data_root, data_name), \n",
    "                             download=True,\n",
    "                             transform=vtransforms.Compose([\n",
    "                                 vtransforms.ToTensor(),\n",
    "                                 vtransforms.Normalize((0.5,), (0.5,)),\n",
    "                         ]))\n",
    "elif data_name == 'FashionMNIST':\n",
    "    dataset = datasets.FashionMNIST(root=os.path.join(data_root, data_name), \n",
    "                                    download=True,\n",
    "                                    transform=vtransforms.Compose([\n",
    "                                        vtransforms.ToTensor(),\n",
    "                                        vtransforms.Normalize((0.5,), (0.5,)),\n",
    "                                    ]))\n",
    "    \n",
    "dtype = dataset[0][0].dtype\n",
    "img_shape = dataset[0][0].shape"
   ]
  },
  {
   "cell_type": "markdown",
   "metadata": {},
   "source": [
    "## Dataloader"
   ]
  },
  {
   "cell_type": "code",
   "execution_count": 9,
   "metadata": {},
   "outputs": [],
   "source": [
    "dataloader = torch.utils.data.DataLoader(dataset, \n",
    "                                         batch_size=batch_size,\n",
    "                                         shuffle=True, \n",
    "                                         num_workers=num_workers)"
   ]
  },
  {
   "cell_type": "code",
   "execution_count": 10,
   "metadata": {},
   "outputs": [
    {
     "data": {
      "image/png": "[encoded data removed]",
      "text/plain": [
       "<IPython.core.display.Image object>"
      ]
     },
     "execution_count": 10,
     "metadata": {},
     "output_type": "execute_result"
    }
   ],
   "source": [
    "if not os.path.exists(os.path.join(output_root, data_name)):\n",
    "    os.makedirs(os.path.join(output_root, data_name))\n",
    "\n",
    "real_sample_path = os.path.join(output_root, data_name, 'real_samples.png')\n",
    "\n",
    "\n",
    "real_batch = next(iter(dataloader))\n",
    "\n",
    "vutils.save_image(real_batch[0], real_sample_path, \n",
    "                  normalize=True, range=(0,1), nrow=nrow)\n",
    "Image(real_sample_path)"
   ]
  },
  {
   "cell_type": "markdown",
   "metadata": {},
   "source": [
    "## Model"
   ]
  },
  {
   "cell_type": "code",
   "execution_count": 11,
   "metadata": {},
   "outputs": [
    {
     "name": "stdout",
     "output_type": "stream",
     "text": [
      "CondDCGenerator(\n",
      "  (encoder): OneHotEncoder()\n",
      "  (model): Sequential(\n",
      "    (0): Unflatten2d(img_shape=(110, 1, 1))\n",
      "    (1): ConvTranspose2d(110, 256, kernel_size=(4, 4), stride=(1, 1))\n",
      "    (2): BatchNorm2d(256, eps=1e-05, momentum=0.1, affine=True, track_running_stats=True)\n",
      "    (3): ReLU(inplace)\n",
      "    (4): ConvTranspose2d(256, 128, kernel_size=(3, 3), stride=(2, 2), padding=(1, 1))\n",
      "    (5): BatchNorm2d(128, eps=1e-05, momentum=0.1, affine=True, track_running_stats=True)\n",
      "    (6): ReLU(inplace)\n",
      "    (7): ConvTranspose2d(128, 64, kernel_size=(3, 3), stride=(2, 2), padding=(1, 1), output_padding=(1, 1))\n",
      "    (8): BatchNorm2d(64, eps=1e-05, momentum=0.1, affine=True, track_running_stats=True)\n",
      "    (9): ReLU(inplace)\n",
      "    (10): ConvTranspose2d(64, 1, kernel_size=(4, 4), stride=(2, 2), padding=(1, 1))\n",
      "    (11): Tanh()\n",
      "  )\n",
      ")\n"
     ]
    }
   ],
   "source": [
    "netG = CondDCGenerator(noize_dim=noize_dim)\n",
    "print(netG)"
   ]
  },
  {
   "cell_type": "code",
   "execution_count": 12,
   "metadata": {},
   "outputs": [
    {
     "name": "stdout",
     "output_type": "stream",
     "text": [
      "CondDCDiscriminator(\n",
      "  (encoder): OneHotEncoder()\n",
      "  (model_conv): Sequential(\n",
      "    (0): Conv2d(1, 64, kernel_size=(4, 4), stride=(2, 2), padding=(1, 1))\n",
      "    (1): LeakyReLU(negative_slope=0.2, inplace)\n",
      "    (2): Conv2d(64, 128, kernel_size=(4, 4), stride=(2, 2), padding=(1, 1))\n",
      "    (3): BatchNorm2d(128, eps=1e-05, momentum=0.1, affine=True, track_running_stats=True)\n",
      "    (4): LeakyReLU(negative_slope=0.2, inplace)\n",
      "    (5): Conv2d(128, 256, kernel_size=(4, 4), stride=(2, 2), padding=(1, 1))\n",
      "    (6): BatchNorm2d(256, eps=1e-05, momentum=0.1, affine=True, track_running_stats=True)\n",
      "    (7): LeakyReLU(negative_slope=0.2, inplace)\n",
      "    (8): Conv2d(256, 100, kernel_size=(3, 3), stride=(1, 1))\n",
      "    (9): Sigmoid()\n",
      "    (10): Flatten()\n",
      "  )\n",
      "  (model_linear): Sequential(\n",
      "    (0): Linear(in_features=110, out_features=256, bias=True)\n",
      "    (1): LeakyReLU(negative_slope=0.2, inplace)\n",
      "    (2): Linear(in_features=256, out_features=128, bias=True)\n",
      "    (3): LeakyReLU(negative_slope=0.2, inplace)\n",
      "    (4): Linear(in_features=128, out_features=1, bias=True)\n",
      "    (5): Sigmoid()\n",
      "  )\n",
      ")\n"
     ]
    }
   ],
   "source": [
    "netD = CondDCDiscriminator(reduced_dim=noize_dim)\n",
    "print(netD)"
   ]
  },
  {
   "cell_type": "markdown",
   "metadata": {},
   "source": [
    "## Training"
   ]
  },
  {
   "cell_type": "code",
   "execution_count": 13,
   "metadata": {},
   "outputs": [],
   "source": [
    "y_fixed = torch.tensor([i//nrow for i in range(sample_size)], device=device)"
   ]
  },
  {
   "cell_type": "code",
   "execution_count": 14,
   "metadata": {},
   "outputs": [],
   "source": [
    "trainer = CGANTrainer(generator=netG, discriminator=netD,\n",
    "                     optimizer=optim.Adam, loss=nn.BCELoss(), y_fixed=y_fixed,\n",
    "                     device=device, multi_gpu=False, output_path=os.path.join(output_root, data_name),\n",
    "                     batch_size=batch_size, num_epochs=num_epochs, sample_size=sample_size)"
   ]
  },
  {
   "cell_type": "code",
   "execution_count": 15,
   "metadata": {},
   "outputs": [
    {
     "name": "stderr",
     "output_type": "stream",
     "text": [
      "/home/shu/.local/lib/python3.6/site-packages/torch/nn/functional.py:2016: UserWarning: Using a target size (torch.Size([200])) that is different to the input size (torch.Size([200, 1])) is deprecated. Please ensure they have the same size.\n",
      "  \"Please ensure they have the same size.\".format(target.size(), input.size()))\n"
     ]
    },
    {
     "name": "stdout",
     "output_type": "stream",
     "text": [
      "[Epoch 0/50][Batch 0/300] Loss_D: 1.39 Loss_G: 0.74\n",
      "[Epoch 0/50][Batch 60/300] Loss_D: 1.46 Loss_G: 0.46\n",
      "[Epoch 0/50][Batch 120/300] Loss_D: 1.38 Loss_G: 0.60\n",
      "[Epoch 0/50][Batch 180/300] Loss_D: 0.50 Loss_G: 2.37\n",
      "[Epoch 0/50][Batch 240/300] Loss_D: 0.91 Loss_G: 1.72\n",
      "Epoch 0 running time: 17.24\n",
      "[Epoch 1/50][Batch 0/300] Loss_D: 0.63 Loss_G: 2.29\n",
      "[Epoch 1/50][Batch 60/300] Loss_D: 0.69 Loss_G: 2.23\n",
      "[Epoch 1/50][Batch 120/300] Loss_D: 0.82 Loss_G: 2.08\n",
      "[Epoch 1/50][Batch 180/300] Loss_D: 0.59 Loss_G: 1.67\n",
      "[Epoch 1/50][Batch 240/300] Loss_D: 0.91 Loss_G: 2.77\n",
      "Epoch 1 running time: 17.79\n",
      "[Epoch 2/50][Batch 0/300] Loss_D: 0.66 Loss_G: 1.81\n",
      "[Epoch 2/50][Batch 60/300] Loss_D: 0.59 Loss_G: 2.63\n",
      "[Epoch 2/50][Batch 120/300] Loss_D: 0.47 Loss_G: 3.35\n",
      "[Epoch 2/50][Batch 180/300] Loss_D: 0.59 Loss_G: 2.32\n",
      "[Epoch 2/50][Batch 240/300] Loss_D: 0.68 Loss_G: 2.35\n",
      "Epoch 2 running time: 20.55\n",
      "[Epoch 3/50][Batch 0/300] Loss_D: 1.09 Loss_G: 2.69\n",
      "[Epoch 3/50][Batch 60/300] Loss_D: 1.77 Loss_G: 2.72\n",
      "[Epoch 3/50][Batch 120/300] Loss_D: 1.12 Loss_G: 1.71\n",
      "[Epoch 3/50][Batch 180/300] Loss_D: 1.09 Loss_G: 1.54\n",
      "[Epoch 3/50][Batch 240/300] Loss_D: 0.97 Loss_G: 2.03\n",
      "Epoch 3 running time: 20.50\n",
      "[Epoch 4/50][Batch 0/300] Loss_D: 1.02 Loss_G: 1.04\n",
      "[Epoch 4/50][Batch 60/300] Loss_D: 1.12 Loss_G: 1.10\n",
      "[Epoch 4/50][Batch 120/300] Loss_D: 0.95 Loss_G: 1.34\n",
      "[Epoch 4/50][Batch 180/300] Loss_D: 1.05 Loss_G: 1.36\n",
      "[Epoch 4/50][Batch 240/300] Loss_D: 1.01 Loss_G: 1.17\n",
      "Epoch 4 running time: 20.39\n",
      "[Epoch 5/50][Batch 0/300] Loss_D: 1.00 Loss_G: 1.21\n",
      "[Epoch 5/50][Batch 60/300] Loss_D: 0.96 Loss_G: 1.04\n",
      "[Epoch 5/50][Batch 120/300] Loss_D: 1.10 Loss_G: 1.52\n",
      "[Epoch 5/50][Batch 180/300] Loss_D: 1.56 Loss_G: 2.23\n",
      "[Epoch 5/50][Batch 240/300] Loss_D: 1.01 Loss_G: 1.51\n",
      "Epoch 5 running time: 20.50\n",
      "[Epoch 6/50][Batch 0/300] Loss_D: 0.98 Loss_G: 1.03\n",
      "[Epoch 6/50][Batch 60/300] Loss_D: 0.94 Loss_G: 1.29\n",
      "[Epoch 6/50][Batch 120/300] Loss_D: 0.94 Loss_G: 1.28\n",
      "[Epoch 6/50][Batch 180/300] Loss_D: 1.02 Loss_G: 1.26\n",
      "[Epoch 6/50][Batch 240/300] Loss_D: 1.04 Loss_G: 1.21\n",
      "Epoch 6 running time: 20.50\n",
      "[Epoch 7/50][Batch 0/300] Loss_D: 1.01 Loss_G: 1.81\n",
      "[Epoch 7/50][Batch 60/300] Loss_D: 0.99 Loss_G: 1.84\n",
      "[Epoch 7/50][Batch 120/300] Loss_D: 1.08 Loss_G: 1.63\n",
      "[Epoch 7/50][Batch 180/300] Loss_D: 1.20 Loss_G: 2.41\n",
      "[Epoch 7/50][Batch 240/300] Loss_D: 0.90 Loss_G: 1.29\n",
      "Epoch 7 running time: 20.48\n",
      "[Epoch 8/50][Batch 0/300] Loss_D: 0.95 Loss_G: 1.45\n",
      "[Epoch 8/50][Batch 60/300] Loss_D: 1.71 Loss_G: 1.37\n",
      "[Epoch 8/50][Batch 120/300] Loss_D: 1.19 Loss_G: 2.71\n",
      "[Epoch 8/50][Batch 180/300] Loss_D: 0.81 Loss_G: 1.67\n",
      "[Epoch 8/50][Batch 240/300] Loss_D: 0.81 Loss_G: 1.81\n",
      "Epoch 8 running time: 20.56\n",
      "[Epoch 9/50][Batch 0/300] Loss_D: 0.90 Loss_G: 1.47\n",
      "[Epoch 9/50][Batch 60/300] Loss_D: 1.00 Loss_G: 1.32\n",
      "[Epoch 9/50][Batch 120/300] Loss_D: 0.81 Loss_G: 1.09\n",
      "[Epoch 9/50][Batch 180/300] Loss_D: 1.46 Loss_G: 2.64\n",
      "[Epoch 9/50][Batch 240/300] Loss_D: 2.22 Loss_G: 1.36\n",
      "Epoch 9 running time: 20.51\n",
      "[Epoch 10/50][Batch 0/300] Loss_D: 0.73 Loss_G: 1.49\n",
      "[Epoch 10/50][Batch 60/300] Loss_D: 1.00 Loss_G: 2.21\n",
      "[Epoch 10/50][Batch 120/300] Loss_D: 1.35 Loss_G: 1.22\n",
      "[Epoch 10/50][Batch 180/300] Loss_D: 1.05 Loss_G: 2.07\n",
      "[Epoch 10/50][Batch 240/300] Loss_D: 0.85 Loss_G: 1.73\n",
      "Epoch 10 running time: 20.43\n",
      "[Epoch 11/50][Batch 0/300] Loss_D: 0.73 Loss_G: 1.20\n",
      "[Epoch 11/50][Batch 60/300] Loss_D: 0.87 Loss_G: 1.51\n",
      "[Epoch 11/50][Batch 120/300] Loss_D: 0.76 Loss_G: 1.72\n",
      "[Epoch 11/50][Batch 180/300] Loss_D: 0.92 Loss_G: 2.77\n",
      "[Epoch 11/50][Batch 240/300] Loss_D: 0.99 Loss_G: 0.95\n",
      "Epoch 11 running time: 20.62\n",
      "[Epoch 12/50][Batch 0/300] Loss_D: 0.81 Loss_G: 1.72\n",
      "[Epoch 12/50][Batch 60/300] Loss_D: 0.75 Loss_G: 2.57\n",
      "[Epoch 12/50][Batch 120/300] Loss_D: 0.86 Loss_G: 1.62\n",
      "[Epoch 12/50][Batch 180/300] Loss_D: 0.78 Loss_G: 0.79\n",
      "[Epoch 12/50][Batch 240/300] Loss_D: 0.82 Loss_G: 2.33\n",
      "Epoch 12 running time: 21.00\n",
      "[Epoch 13/50][Batch 0/300] Loss_D: 2.07 Loss_G: 0.94\n",
      "[Epoch 13/50][Batch 60/300] Loss_D: 0.69 Loss_G: 2.34\n",
      "[Epoch 13/50][Batch 120/300] Loss_D: 1.03 Loss_G: 1.00\n",
      "[Epoch 13/50][Batch 180/300] Loss_D: 0.87 Loss_G: 3.05\n",
      "[Epoch 13/50][Batch 240/300] Loss_D: 1.03 Loss_G: 3.43\n",
      "Epoch 13 running time: 21.04\n",
      "[Epoch 14/50][Batch 0/300] Loss_D: 0.67 Loss_G: 2.40\n",
      "[Epoch 14/50][Batch 60/300] Loss_D: 0.86 Loss_G: 1.38\n",
      "[Epoch 14/50][Batch 120/300] Loss_D: 0.86 Loss_G: 1.14\n",
      "[Epoch 14/50][Batch 180/300] Loss_D: 0.66 Loss_G: 2.70\n",
      "[Epoch 14/50][Batch 240/300] Loss_D: 0.92 Loss_G: 1.80\n",
      "Epoch 14 running time: 20.48\n",
      "[Epoch 15/50][Batch 0/300] Loss_D: 0.60 Loss_G: 2.23\n",
      "[Epoch 15/50][Batch 60/300] Loss_D: 0.66 Loss_G: 1.75\n",
      "[Epoch 15/50][Batch 120/300] Loss_D: 0.65 Loss_G: 2.34\n",
      "[Epoch 15/50][Batch 180/300] Loss_D: 0.96 Loss_G: 1.22\n",
      "[Epoch 15/50][Batch 240/300] Loss_D: 1.33 Loss_G: 2.72\n",
      "Epoch 15 running time: 20.38\n",
      "[Epoch 16/50][Batch 0/300] Loss_D: 0.71 Loss_G: 2.14\n",
      "[Epoch 16/50][Batch 60/300] Loss_D: 0.88 Loss_G: 1.37\n",
      "[Epoch 16/50][Batch 120/300] Loss_D: 0.71 Loss_G: 1.77\n",
      "[Epoch 16/50][Batch 180/300] Loss_D: 0.63 Loss_G: 1.70\n",
      "[Epoch 16/50][Batch 240/300] Loss_D: 0.71 Loss_G: 1.95\n",
      "Epoch 16 running time: 20.36\n",
      "[Epoch 17/50][Batch 0/300] Loss_D: 0.86 Loss_G: 1.61\n",
      "[Epoch 17/50][Batch 60/300] Loss_D: 0.84 Loss_G: 1.17\n",
      "[Epoch 17/50][Batch 120/300] Loss_D: 0.53 Loss_G: 2.75\n",
      "[Epoch 17/50][Batch 180/300] Loss_D: 0.67 Loss_G: 2.29\n",
      "[Epoch 17/50][Batch 240/300] Loss_D: 0.90 Loss_G: 1.70\n",
      "Epoch 17 running time: 20.52\n",
      "[Epoch 18/50][Batch 0/300] Loss_D: 0.57 Loss_G: 3.27\n",
      "[Epoch 18/50][Batch 60/300] Loss_D: 1.38 Loss_G: 1.99\n",
      "[Epoch 18/50][Batch 120/300] Loss_D: 0.50 Loss_G: 2.44\n",
      "[Epoch 18/50][Batch 180/300] Loss_D: 0.84 Loss_G: 1.68\n",
      "[Epoch 18/50][Batch 240/300] Loss_D: 0.62 Loss_G: 2.53\n",
      "Epoch 18 running time: 20.52\n",
      "[Epoch 19/50][Batch 0/300] Loss_D: 1.03 Loss_G: 1.40\n",
      "[Epoch 19/50][Batch 60/300] Loss_D: 0.90 Loss_G: 4.53\n",
      "[Epoch 19/50][Batch 120/300] Loss_D: 0.81 Loss_G: 3.13\n",
      "[Epoch 19/50][Batch 180/300] Loss_D: 0.87 Loss_G: 1.48\n",
      "[Epoch 19/50][Batch 240/300] Loss_D: 0.45 Loss_G: 3.92\n",
      "Epoch 19 running time: 20.57\n",
      "[Epoch 20/50][Batch 0/300] Loss_D: 0.54 Loss_G: 3.29\n",
      "[Epoch 20/50][Batch 60/300] Loss_D: 0.61 Loss_G: 2.11\n",
      "[Epoch 20/50][Batch 120/300] Loss_D: 0.74 Loss_G: 3.02\n",
      "[Epoch 20/50][Batch 180/300] Loss_D: 0.64 Loss_G: 2.39\n",
      "[Epoch 20/50][Batch 240/300] Loss_D: 0.58 Loss_G: 3.33\n",
      "Epoch 20 running time: 20.56\n",
      "[Epoch 21/50][Batch 0/300] Loss_D: 1.14 Loss_G: 1.57\n",
      "[Epoch 21/50][Batch 60/300] Loss_D: 0.61 Loss_G: 3.12\n",
      "[Epoch 21/50][Batch 120/300] Loss_D: 0.63 Loss_G: 2.34\n",
      "[Epoch 21/50][Batch 180/300] Loss_D: 0.71 Loss_G: 3.94\n",
      "[Epoch 21/50][Batch 240/300] Loss_D: 0.76 Loss_G: 4.42\n",
      "Epoch 21 running time: 20.64\n",
      "[Epoch 22/50][Batch 0/300] Loss_D: 1.01 Loss_G: 1.65\n",
      "[Epoch 22/50][Batch 60/300] Loss_D: 0.57 Loss_G: 3.95\n",
      "[Epoch 22/50][Batch 120/300] Loss_D: 0.69 Loss_G: 1.80\n",
      "[Epoch 22/50][Batch 180/300] Loss_D: 0.56 Loss_G: 2.96\n",
      "[Epoch 22/50][Batch 240/300] Loss_D: 0.67 Loss_G: 2.37\n",
      "Epoch 22 running time: 20.63\n",
      "[Epoch 23/50][Batch 0/300] Loss_D: 0.61 Loss_G: 2.52\n",
      "[Epoch 23/50][Batch 60/300] Loss_D: 0.52 Loss_G: 2.36\n",
      "[Epoch 23/50][Batch 120/300] Loss_D: 0.62 Loss_G: 4.64\n",
      "[Epoch 23/50][Batch 180/300] Loss_D: 0.58 Loss_G: 2.22\n",
      "[Epoch 23/50][Batch 240/300] Loss_D: 0.74 Loss_G: 1.25\n",
      "Epoch 23 running time: 20.72\n",
      "[Epoch 24/50][Batch 0/300] Loss_D: 0.56 Loss_G: 3.66\n",
      "[Epoch 24/50][Batch 60/300] Loss_D: 0.77 Loss_G: 1.86\n",
      "[Epoch 24/50][Batch 120/300] Loss_D: 0.56 Loss_G: 3.27\n",
      "[Epoch 24/50][Batch 180/300] Loss_D: 0.86 Loss_G: 1.86\n",
      "[Epoch 24/50][Batch 240/300] Loss_D: 0.88 Loss_G: 1.55\n",
      "Epoch 24 running time: 20.63\n",
      "[Epoch 25/50][Batch 0/300] Loss_D: 0.56 Loss_G: 2.69\n",
      "[Epoch 25/50][Batch 60/300] Loss_D: 0.38 Loss_G: 2.96\n",
      "[Epoch 25/50][Batch 120/300] Loss_D: 0.53 Loss_G: 2.16\n",
      "[Epoch 25/50][Batch 180/300] Loss_D: 0.46 Loss_G: 3.06\n",
      "[Epoch 25/50][Batch 240/300] Loss_D: 1.01 Loss_G: 6.21\n",
      "Epoch 25 running time: 19.91\n",
      "[Epoch 26/50][Batch 0/300] Loss_D: 0.56 Loss_G: 2.12\n",
      "[Epoch 26/50][Batch 60/300] Loss_D: 0.54 Loss_G: 3.78\n",
      "[Epoch 26/50][Batch 120/300] Loss_D: 1.09 Loss_G: 3.94\n",
      "[Epoch 26/50][Batch 180/300] Loss_D: 0.46 Loss_G: 3.59\n",
      "[Epoch 26/50][Batch 240/300] Loss_D: 0.70 Loss_G: 2.31\n",
      "Epoch 26 running time: 17.20\n",
      "[Epoch 27/50][Batch 0/300] Loss_D: 0.52 Loss_G: 2.90\n",
      "[Epoch 27/50][Batch 60/300] Loss_D: 0.65 Loss_G: 2.07\n",
      "[Epoch 27/50][Batch 120/300] Loss_D: 0.52 Loss_G: 2.32\n"
     ]
    },
    {
     "name": "stdout",
     "output_type": "stream",
     "text": [
      "[Epoch 27/50][Batch 180/300] Loss_D: 0.79 Loss_G: 4.98\n",
      "[Epoch 27/50][Batch 240/300] Loss_D: 0.50 Loss_G: 4.33\n",
      "Epoch 27 running time: 17.23\n",
      "[Epoch 28/50][Batch 0/300] Loss_D: 0.46 Loss_G: 3.68\n",
      "[Epoch 28/50][Batch 60/300] Loss_D: 1.17 Loss_G: 1.17\n",
      "[Epoch 28/50][Batch 120/300] Loss_D: 0.85 Loss_G: 4.23\n",
      "[Epoch 28/50][Batch 180/300] Loss_D: 0.39 Loss_G: 3.94\n",
      "[Epoch 28/50][Batch 240/300] Loss_D: 1.49 Loss_G: 0.70\n",
      "Epoch 28 running time: 17.00\n",
      "[Epoch 29/50][Batch 0/300] Loss_D: 0.57 Loss_G: 5.65\n",
      "[Epoch 29/50][Batch 60/300] Loss_D: 0.71 Loss_G: 2.99\n",
      "[Epoch 29/50][Batch 120/300] Loss_D: 0.55 Loss_G: 1.19\n",
      "[Epoch 29/50][Batch 180/300] Loss_D: 0.86 Loss_G: 5.68\n",
      "[Epoch 29/50][Batch 240/300] Loss_D: 0.82 Loss_G: 2.10\n",
      "Epoch 29 running time: 17.54\n",
      "[Epoch 30/50][Batch 0/300] Loss_D: 0.39 Loss_G: 4.42\n",
      "[Epoch 30/50][Batch 60/300] Loss_D: 0.61 Loss_G: 2.31\n",
      "[Epoch 30/50][Batch 120/300] Loss_D: 0.40 Loss_G: 3.84\n",
      "[Epoch 30/50][Batch 180/300] Loss_D: 1.49 Loss_G: 4.61\n",
      "[Epoch 30/50][Batch 240/300] Loss_D: 0.42 Loss_G: 3.58\n",
      "Epoch 30 running time: 17.67\n",
      "[Epoch 31/50][Batch 0/300] Loss_D: 0.54 Loss_G: 3.76\n",
      "[Epoch 31/50][Batch 60/300] Loss_D: 0.40 Loss_G: 3.45\n",
      "[Epoch 31/50][Batch 120/300] Loss_D: 1.34 Loss_G: 0.51\n",
      "[Epoch 31/50][Batch 180/300] Loss_D: 0.86 Loss_G: 1.76\n",
      "[Epoch 31/50][Batch 240/300] Loss_D: 0.46 Loss_G: 5.15\n",
      "Epoch 31 running time: 18.15\n",
      "[Epoch 32/50][Batch 0/300] Loss_D: 0.35 Loss_G: 5.18\n",
      "[Epoch 32/50][Batch 60/300] Loss_D: 1.14 Loss_G: 2.94\n",
      "[Epoch 32/50][Batch 120/300] Loss_D: 0.44 Loss_G: 6.18\n",
      "[Epoch 32/50][Batch 180/300] Loss_D: 0.63 Loss_G: 2.91\n",
      "[Epoch 32/50][Batch 240/300] Loss_D: 0.81 Loss_G: 1.82\n",
      "Epoch 32 running time: 17.64\n",
      "[Epoch 33/50][Batch 0/300] Loss_D: 0.42 Loss_G: 4.77\n",
      "[Epoch 33/50][Batch 60/300] Loss_D: 0.43 Loss_G: 5.63\n",
      "[Epoch 33/50][Batch 120/300] Loss_D: 0.75 Loss_G: 3.16\n",
      "[Epoch 33/50][Batch 180/300] Loss_D: 0.33 Loss_G: 3.63\n",
      "[Epoch 33/50][Batch 240/300] Loss_D: 0.68 Loss_G: 5.15\n",
      "Epoch 33 running time: 17.24\n",
      "[Epoch 34/50][Batch 0/300] Loss_D: 0.57 Loss_G: 3.64\n",
      "[Epoch 34/50][Batch 60/300] Loss_D: 0.41 Loss_G: 2.91\n",
      "[Epoch 34/50][Batch 120/300] Loss_D: 0.31 Loss_G: 4.03\n",
      "[Epoch 34/50][Batch 180/300] Loss_D: 0.40 Loss_G: 4.44\n",
      "[Epoch 34/50][Batch 240/300] Loss_D: 0.44 Loss_G: 4.29\n",
      "Epoch 34 running time: 17.39\n",
      "[Epoch 35/50][Batch 0/300] Loss_D: 0.47 Loss_G: 5.46\n",
      "[Epoch 35/50][Batch 60/300] Loss_D: 0.32 Loss_G: 3.44\n",
      "[Epoch 35/50][Batch 120/300] Loss_D: 0.37 Loss_G: 3.87\n",
      "[Epoch 35/50][Batch 180/300] Loss_D: 0.75 Loss_G: 6.80\n",
      "[Epoch 35/50][Batch 240/300] Loss_D: 0.75 Loss_G: 2.21\n",
      "Epoch 35 running time: 17.87\n",
      "[Epoch 36/50][Batch 0/300] Loss_D: 0.42 Loss_G: 4.37\n",
      "[Epoch 36/50][Batch 60/300] Loss_D: 0.75 Loss_G: 2.06\n",
      "[Epoch 36/50][Batch 120/300] Loss_D: 0.86 Loss_G: 2.54\n",
      "[Epoch 36/50][Batch 180/300] Loss_D: 0.64 Loss_G: 1.85\n",
      "[Epoch 36/50][Batch 240/300] Loss_D: 0.35 Loss_G: 6.06\n",
      "Epoch 36 running time: 17.74\n",
      "[Epoch 37/50][Batch 0/300] Loss_D: 0.39 Loss_G: 4.23\n",
      "[Epoch 37/50][Batch 60/300] Loss_D: 0.35 Loss_G: 4.27\n",
      "[Epoch 37/50][Batch 120/300] Loss_D: 0.47 Loss_G: 4.79\n",
      "[Epoch 37/50][Batch 180/300] Loss_D: 0.81 Loss_G: 0.42\n",
      "[Epoch 37/50][Batch 240/300] Loss_D: 0.30 Loss_G: 3.61\n",
      "Epoch 37 running time: 17.75\n",
      "[Epoch 38/50][Batch 0/300] Loss_D: 0.34 Loss_G: 4.73\n",
      "[Epoch 38/50][Batch 60/300] Loss_D: 0.32 Loss_G: 4.66\n",
      "[Epoch 38/50][Batch 120/300] Loss_D: 0.89 Loss_G: 1.55\n",
      "[Epoch 38/50][Batch 180/300] Loss_D: 0.40 Loss_G: 5.78\n",
      "[Epoch 38/50][Batch 240/300] Loss_D: 0.35 Loss_G: 5.31\n",
      "Epoch 38 running time: 17.59\n",
      "[Epoch 39/50][Batch 0/300] Loss_D: 0.46 Loss_G: 4.46\n",
      "[Epoch 39/50][Batch 60/300] Loss_D: 0.72 Loss_G: 4.24\n",
      "[Epoch 39/50][Batch 120/300] Loss_D: 0.28 Loss_G: 5.32\n",
      "[Epoch 39/50][Batch 180/300] Loss_D: 0.35 Loss_G: 4.22\n",
      "[Epoch 39/50][Batch 240/300] Loss_D: 0.43 Loss_G: 2.84\n",
      "Epoch 39 running time: 17.25\n",
      "[Epoch 40/50][Batch 0/300] Loss_D: 0.39 Loss_G: 4.43\n",
      "[Epoch 40/50][Batch 60/300] Loss_D: 0.44 Loss_G: 3.57\n",
      "[Epoch 40/50][Batch 120/300] Loss_D: 0.60 Loss_G: 6.41\n",
      "[Epoch 40/50][Batch 180/300] Loss_D: 0.42 Loss_G: 4.77\n",
      "[Epoch 40/50][Batch 240/300] Loss_D: 0.48 Loss_G: 5.87\n",
      "Epoch 40 running time: 17.86\n",
      "[Epoch 41/50][Batch 0/300] Loss_D: 0.55 Loss_G: 6.66\n",
      "[Epoch 41/50][Batch 60/300] Loss_D: 1.43 Loss_G: 1.72\n",
      "[Epoch 41/50][Batch 120/300] Loss_D: 0.58 Loss_G: 2.42\n",
      "[Epoch 41/50][Batch 180/300] Loss_D: 0.48 Loss_G: 3.19\n",
      "[Epoch 41/50][Batch 240/300] Loss_D: 0.37 Loss_G: 4.21\n",
      "Epoch 41 running time: 18.28\n",
      "[Epoch 42/50][Batch 0/300] Loss_D: 0.36 Loss_G: 5.26\n",
      "[Epoch 42/50][Batch 60/300] Loss_D: 0.35 Loss_G: 5.65\n",
      "[Epoch 42/50][Batch 120/300] Loss_D: 0.46 Loss_G: 3.88\n",
      "[Epoch 42/50][Batch 180/300] Loss_D: 0.41 Loss_G: 3.96\n",
      "[Epoch 42/50][Batch 240/300] Loss_D: 0.33 Loss_G: 6.61\n",
      "Epoch 42 running time: 17.85\n",
      "[Epoch 43/50][Batch 0/300] Loss_D: 0.20 Loss_G: 5.09\n",
      "[Epoch 43/50][Batch 60/300] Loss_D: 0.47 Loss_G: 3.61\n",
      "[Epoch 43/50][Batch 120/300] Loss_D: 0.40 Loss_G: 5.35\n",
      "[Epoch 43/50][Batch 180/300] Loss_D: 0.85 Loss_G: 2.20\n",
      "[Epoch 43/50][Batch 240/300] Loss_D: 0.37 Loss_G: 5.90\n",
      "Epoch 43 running time: 17.18\n",
      "[Epoch 44/50][Batch 0/300] Loss_D: 0.35 Loss_G: 4.02\n",
      "[Epoch 44/50][Batch 60/300] Loss_D: 0.42 Loss_G: 3.04\n",
      "[Epoch 44/50][Batch 120/300] Loss_D: 0.46 Loss_G: 5.04\n",
      "[Epoch 44/50][Batch 180/300] Loss_D: 0.31 Loss_G: 5.89\n",
      "[Epoch 44/50][Batch 240/300] Loss_D: 0.39 Loss_G: 7.45\n",
      "Epoch 44 running time: 17.49\n",
      "[Epoch 45/50][Batch 0/300] Loss_D: 0.24 Loss_G: 5.35\n",
      "[Epoch 45/50][Batch 60/300] Loss_D: 0.40 Loss_G: 6.13\n",
      "[Epoch 45/50][Batch 120/300] Loss_D: 0.71 Loss_G: 2.28\n",
      "[Epoch 45/50][Batch 180/300] Loss_D: 0.31 Loss_G: 5.12\n",
      "[Epoch 45/50][Batch 240/300] Loss_D: 0.41 Loss_G: 4.59\n",
      "Epoch 45 running time: 17.85\n",
      "[Epoch 46/50][Batch 0/300] Loss_D: 0.19 Loss_G: 5.90\n",
      "[Epoch 46/50][Batch 60/300] Loss_D: 0.30 Loss_G: 6.35\n",
      "[Epoch 46/50][Batch 120/300] Loss_D: 0.75 Loss_G: 1.77\n",
      "[Epoch 46/50][Batch 180/300] Loss_D: 0.90 Loss_G: 1.64\n",
      "[Epoch 46/50][Batch 240/300] Loss_D: 0.57 Loss_G: 2.26\n",
      "Epoch 46 running time: 18.03\n",
      "[Epoch 47/50][Batch 0/300] Loss_D: 0.58 Loss_G: 8.30\n",
      "[Epoch 47/50][Batch 60/300] Loss_D: 0.43 Loss_G: 6.33\n",
      "[Epoch 47/50][Batch 120/300] Loss_D: 0.42 Loss_G: 5.00\n",
      "[Epoch 47/50][Batch 180/300] Loss_D: 0.18 Loss_G: 4.84\n",
      "[Epoch 47/50][Batch 240/300] Loss_D: 0.29 Loss_G: 6.16\n",
      "Epoch 47 running time: 17.98\n",
      "[Epoch 48/50][Batch 0/300] Loss_D: 0.32 Loss_G: 5.52\n",
      "[Epoch 48/50][Batch 60/300] Loss_D: 0.22 Loss_G: 6.70\n",
      "[Epoch 48/50][Batch 120/300] Loss_D: 0.30 Loss_G: 8.29\n",
      "[Epoch 48/50][Batch 180/300] Loss_D: 0.28 Loss_G: 5.08\n",
      "[Epoch 48/50][Batch 240/300] Loss_D: 0.55 Loss_G: 3.15\n",
      "Epoch 48 running time: 17.05\n",
      "[Epoch 49/50][Batch 0/300] Loss_D: 0.34 Loss_G: 6.63\n",
      "[Epoch 49/50][Batch 60/300] Loss_D: 0.76 Loss_G: 3.38\n",
      "[Epoch 49/50][Batch 120/300] Loss_D: 0.38 Loss_G: 6.26\n",
      "[Epoch 49/50][Batch 180/300] Loss_D: 0.41 Loss_G: 5.16\n",
      "[Epoch 49/50][Batch 240/300] Loss_D: 0.38 Loss_G: 5.97\n",
      "Epoch 49 running time: 17.80\n",
      "Total running time: 951.17s\n"
     ]
    }
   ],
   "source": [
    "trainer.train(dataloader=dataloader, nrow=nrow)"
   ]
  },
  {
   "cell_type": "code",
   "execution_count": 16,
   "metadata": {
    "scrolled": true
   },
   "outputs": [
    {
     "data": {
      "image/png": "[encoded data removed]",
      "text/plain": [
       "<Figure size 576x216 with 1 Axes>"
      ]
     },
     "metadata": {
      "needs_background": "light"
     },
     "output_type": "display_data"
    }
   ],
   "source": [
    "plt.figure(figsize=(8,3))\n",
    "plt.title(\"Generator and Discriminator Loss During Training\")\n",
    "plt.plot(trainer.g_losses,label=\"G\")\n",
    "plt.plot(trainer.d_losses,label=\"D\")\n",
    "\n",
    "plt.xlabel(\"iterations\")\n",
    "plt.ylabel(\"Loss\")\n",
    "plt.legend()\n",
    "plt.savefig(os.path.join(output_root, data_name, 'g_d_loss.png'))\n",
    "plt.show()"
   ]
  },
  {
   "cell_type": "code",
   "execution_count": 17,
   "metadata": {},
   "outputs": [],
   "source": [
    "gif_generator(image_dir=os.path.join(output_root, data_name), \n",
    "              name_pattern=r'fake_samples_epoch_[\\d]+|.png')"
   ]
  },
  {
   "cell_type": "code",
   "execution_count": 18,
   "metadata": {},
   "outputs": [
    {
     "data": {
      "text/plain": [
       "[1, 2, 3]"
      ]
     },
     "execution_count": 18,
     "metadata": {},
     "output_type": "execute_result"
    }
   ],
   "source": [
    "[1,2,3,4,5][:-2]"
   ]
  },
  {
   "cell_type": "code",
   "execution_count": null,
   "metadata": {},
   "outputs": [],
   "source": []
  }
 ],
 "metadata": {
  "kernelspec": {
   "display_name": "Python 3",
   "language": "python",
   "name": "python3"
  },
  "language_info": {
   "codemirror_mode": {
    "name": "ipython",
    "version": 3
   },
   "file_extension": ".py",
   "mimetype": "text/x-python",
   "name": "python",
   "nbconvert_exporter": "python",
   "pygments_lexer": "ipython3",
   "version": "3.6.7"
  }
 },
 "nbformat": 4,
 "nbformat_minor": 1
}
